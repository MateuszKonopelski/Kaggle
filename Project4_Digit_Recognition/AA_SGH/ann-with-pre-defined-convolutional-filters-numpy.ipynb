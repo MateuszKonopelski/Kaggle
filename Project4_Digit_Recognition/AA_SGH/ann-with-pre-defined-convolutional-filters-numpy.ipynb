{
 "cells": [
  {
   "cell_type": "code",
   "execution_count": null,
   "metadata": {},
   "outputs": [],
   "source": [
    "# # Oznaczeniezmiennych\n",
    "# X_train # wektor wejściowy do modelu o wymiarze 728 x 1 gdzie wartości oznaczają \n",
    "#         # ciemność piksela po standaryzacji\n",
    "# W1      # wektor parametrów (wag) w pierwsze warstwie\n",
    "# A1      # wektor wartości neuronów w pierwszej warstwie\n",
    "# b1      # błąd (bias) pierwszej warstwy\n",
    "\n",
    "# W2      # wektor parametrów w drugiej warstwie\n",
    "# A2      # wektor wartości neuronów w drugiej warstwie\n",
    "# b2      # błąd (bias) drugiej wartswy\n",
    "\n",
    "# W3      # wektor parametrów w drugiej warstwie\n",
    "# A3      # wektor wartości neuronów w drugiej warstwie\n",
    "# b3      # błąd (bias) drugiej wartswy\n",
    "\n"
   ]
  },
  {
   "cell_type": "markdown",
   "metadata": {},
   "source": [
    "# Import wymaganych bibliotek"
   ]
  },
  {
   "cell_type": "code",
   "execution_count": 1,
   "metadata": {},
   "outputs": [],
   "source": [
    "import numpy as np\n",
    "import pandas as pd\n",
    "import matplotlib.pyplot as plt"
   ]
  },
  {
   "cell_type": "code",
   "execution_count": 2,
   "metadata": {},
   "outputs": [],
   "source": [
    "IMG_SIZE = 28"
   ]
  },
  {
   "cell_type": "markdown",
   "metadata": {},
   "source": [
    "# Zdefiniowanie wszystkich funkcji"
   ]
  },
  {
   "cell_type": "code",
   "execution_count": 4,
   "metadata": {
    "_cell_guid": "79c7e3d0-c299-4dcb-8224-4455121ee9b0",
    "_uuid": "d629ff2d2480ee46fbb7e2d37f6b5fab8052498a"
   },
   "outputs": [],
   "source": [
    "def standarize_normalize_set(dataset):\n",
    "    return dataset / 255.0\n",
    "\n",
    "def reshape_x_for_cnn(dataset, dim1, dim2):\n",
    "    return dataset.reshape(-1, dim1, dim2, 1)"
   ]
  },
  {
   "cell_type": "code",
   "execution_count": 5,
   "metadata": {},
   "outputs": [],
   "source": [
    "def one_hot_encoding(dataset):\n",
    "    dataset_encoded = np.zeros((len(dataset), 10))\n",
    "    dataset_encoded[np.arange(len(dataset)), labels] = 1\n",
    "    return dataset_encoded"
   ]
  },
  {
   "cell_type": "code",
   "execution_count": 6,
   "metadata": {},
   "outputs": [],
   "source": [
    "def softmax(matrix):\n",
    "    e_x = np.exp(matrix - np.max(matrix))\n",
    "    return e_x / e_x.sum()\n",
    "\n",
    "def sigmoid(z):\n",
    "    s = 1 / (1 + np.exp(-z))\n",
    "    return s\n",
    "\n",
    "def compute_multiclass_loss(Y, Y_hat):\n",
    "\n",
    "    L_sum = np.sum(np.multiply(Y, np.log(Y_hat)))\n",
    "    m = Y.shape[0]\n",
    "    L = -(1/m) * L_sum\n",
    "\n",
    "    return L"
   ]
  },
  {
   "cell_type": "code",
   "execution_count": 7,
   "metadata": {},
   "outputs": [],
   "source": [
    "def train_ann(X_train, y_train, learning_rate = 0.1, epochs=1000):\n",
    "\n",
    "    global cost_list\n",
    "    cost_list = []\n",
    "    n_x = X_train.shape[1]\n",
    "    n_h = 45\n",
    "    n_h2 = 14\n",
    "    digits = 10\n",
    "\n",
    "    W1 = np.random.randn(n_x, n_h)\n",
    "    b1 = np.zeros((1, n_h))\n",
    "\n",
    "    W2 = np.random.randn(n_h, n_h2)\n",
    "    b2 = np.zeros((1, n_h2))\n",
    "\n",
    "    W3 = np.random.randn(n_h2, digits)\n",
    "    b3 = np.zeros((1, digits))\n",
    "\n",
    "    for i in range(epochs):\n",
    "\n",
    "        m = X_train.shape[1]\n",
    "\n",
    "        Z1 = np.matmul(X_train, W1) + b1\n",
    "        A1 = sigmoid(Z1)\n",
    "\n",
    "        Z2 = np.matmul(A1, W2) + b2\n",
    "        A2 = sigmoid(Z2)\n",
    "\n",
    "        Z3 = np.matmul(A2, W3) + b3\n",
    "        A3 = np.exp(Z3) / np.sum(np.exp(Z3), axis=1, keepdims=True)\n",
    "\n",
    "        cost = compute_multiclass_loss(y_train, A3)\n",
    "\n",
    "        dZ3 = A3-y_train\n",
    "        dW3 = (1./m) * np.matmul(A2.T, dZ3)\n",
    "        db3 = (1./m) * np.sum(dZ3, axis=0, keepdims=True)\n",
    "\n",
    "        dA2 = np.matmul(dZ3, W3.T)\n",
    "        dZ2 = dA2 * sigmoid(Z2) * (1 - sigmoid(Z2))\n",
    "        dW2 = (1./m) * np.matmul(A1.T, dZ2)\n",
    "        db2 = (1./m) * np.sum(dZ2, axis=0, keepdims=True)\n",
    "\n",
    "        dA1 = np.matmul(dZ2, W2.T)\n",
    "        dZ1 = dA1 * sigmoid(Z1) * (1 - sigmoid(Z1))\n",
    "        dW1 = (1./m) * np.matmul(X_train.T, dZ1)\n",
    "        db1 = (1./m) * np.sum(dZ1, axis=0, keepdims=True)\n",
    "\n",
    "        W3 = W3 - learning_rate * dW3\n",
    "        b3 = b3 - learning_rate * db3\n",
    "        W2 = W2 - learning_rate * dW2\n",
    "        b2 = b2 - learning_rate * db2\n",
    "        W1 = W1 - learning_rate * dW1\n",
    "        b1 = b1 - learning_rate * db1\n",
    "        \n",
    "        cost_list.append((i, cost))\n",
    "\n",
    "        if (i % 100 == 0):\n",
    "            print(\"Epoch\", i, \"cost: \", cost)\n",
    "            \n",
    "    return W1, b1, W2, b2, W3, b3"
   ]
  },
  {
   "cell_type": "code",
   "execution_count": 8,
   "metadata": {},
   "outputs": [],
   "source": [
    "def predict_new_data(X_test, W1, b1, W2, b2, W3, b3):\n",
    "    Z1 = np.matmul(X_test, W1) + b1\n",
    "    A1 = sigmoid(Z1)\n",
    "\n",
    "    Z2 = np.matmul(A1, W2) + b2\n",
    "    A2 = sigmoid(Z2)\n",
    "\n",
    "    Z3 = np.matmul(A2, W3) + b3\n",
    "    A3 = np.exp(Z3) / np.sum(np.exp(Z3), axis=1, keepdims=True)\n",
    "\n",
    "    y_hat= np.argmax(A3, axis=1)\n",
    "    \n",
    "    return y_hat"
   ]
  },
  {
   "cell_type": "code",
   "execution_count": 15,
   "metadata": {},
   "outputs": [],
   "source": [
    "def convulving_matrix(input_matrix, conv_kernel, stride=(1, 1), \\\n",
    "                      pad_method='same', bias=1):\n",
    "\n",
    "    input_h, input_w, input_d = input_matrix.shape[0], \n",
    "                                input_matrix.shape[1], \n",
    "                                input_matrix.shape[2]\n",
    "    kernel_h, kernel_w, kernel_d = conv_kernel.shape[0], \n",
    "                                   conv_kernel.shape[1], \n",
    "                                   conv_kernel.shape[2]\n",
    "    stride_h, stride_w = stride[0], stride[1]\n",
    "\n",
    "    if pad_method == 'same':\n",
    "        output_h = int(np.ceil(input_matrix.shape[0] / float(stride[0])))\n",
    "        output_w = int(np.ceil(input_matrix.shape[1] / float(stride[1])))\n",
    "        output_d = input_d\n",
    "        output = np.zeros((output_h, output_w, output_d))\n",
    "\n",
    "        pad_h = max((output_h - 1) * stride[0] + conv_kernel.shape[0] - input_h, 0)\n",
    "        pad_h_offset = int(np.floor(pad_h/2))  \n",
    "        pad_w = max((output_w - 1) * stride[1] + conv_kernel.shape[1] - input_w, 0)\n",
    "        pad_w_offset = int(np.floor(pad_w/2))\n",
    "\n",
    "        padded_matrix = np.zeros((output_h + pad_h, output_w + pad_w, input_d))\n",
    "\n",
    "        for l in range(input_d):\n",
    "            for i in range(input_h):\n",
    "                for j in range(input_w):\n",
    "                    padded_matrix[i + pad_h_offset, j + pad_w_offset, l] = \\\n",
    "                    input_matrix[i, j, l]\n",
    "\n",
    "        for l in range(output_d):\n",
    "            for i in range(output_h):\n",
    "                for j in range(output_w):\n",
    "                    curr_region = padded_matrix[i*stride_h : i*stride_h + kernel_h, \n",
    "                                                j*stride_w : j*stride_w + kernel_w, l]\n",
    "                    output[i, j, l] = (conv_kernel[..., l] * curr_region).sum()\n",
    "\n",
    "    elif pad_method == 'valid':\n",
    "\n",
    "        output_h = int(np.ceil((input_matrix.shape[0] - kernel_h + 1) / float(stride[0])))\n",
    "        output_w = int(np.ceil((input_matrix.shape[1] - kernel_w + 1) / float(stride[1])))\n",
    "        output = np.zeros((output_h, output_w, layer+1))\n",
    "\n",
    "        for l in range(layer + 1):\n",
    "            for i in range(output_h):\n",
    "                for j in range(output_w): \n",
    "                    curr_region = input_matrix[i*stride_h:i*stride_h+kernel_h, \n",
    "                                               j*stride_w:j*stride_w+kernel_w, l]\n",
    "                    output[i, j, l] = (conv_kernel[..., l] * curr_region).sum()\n",
    "\n",
    "    output = np.sum(output, axis=2) + bias\n",
    "\n",
    "    return output"
   ]
  },
  {
   "cell_type": "code",
   "execution_count": 16,
   "metadata": {},
   "outputs": [],
   "source": [
    "def convulve_whole_dataset(matrix, method='simple'):\n",
    "      \n",
    "    range_ = matrix.shape[0]\n",
    "    if method == 'simple':\n",
    "        K  = np.array( [ 0, -1,  0, \n",
    "                        -1,  5, -1, \n",
    "                         0, -1,  0]  ).reshape((3, 3, 1))\n",
    "        I = np.zeros((range_, matrix.shape[1], matrix.shape[2]))\n",
    "\n",
    "        for number in range(range_):\n",
    "            I[number, :, :] = convulving_matrix(matrix[number], K)\n",
    "        G = I.reshape(-1, IMG_SIZE * IMG_SIZE)\n",
    " \n",
    "    else:\n",
    "        Kx  = np.array([-1, 0, 1, -2, 0, 2, -1, 0, 1]).reshape((3, 3, 1))\n",
    "        Ky = np.array([1, 2, 1, 0, 0, 0, -1, -2, -1]).reshape((3, 3, 1))\n",
    "\n",
    "        Ix = np.zeros((range_, matrix.shape[1], matrix.shape[2]))\n",
    "        Iy = np.zeros((range_, matrix.shape[1], matrix.shape[2]))\n",
    "\n",
    "        for number in range(range_):\n",
    "            Ix[number, :, :] = convulving_matrix(matrix[number], Kx)\n",
    "            Iy[number, :, :] = convulving_matrix(matrix[number], Ky)\n",
    "\n",
    "        G = np.hypot(Ix, Iy)\n",
    "        G = G / G.max() * 255\n",
    "        G = G.reshape(-1, IMG_SIZE * IMG_SIZE)\n",
    "        \n",
    "        theta = np.arctan2(Iy, Ix)\n",
    "    \n",
    "    return G\n"
   ]
  },
  {
   "cell_type": "code",
   "execution_count": null,
   "metadata": {},
   "outputs": [],
   "source": [
    "def visualize_conv_kernels(idx_list, dataset, IMG_SIZE):\n",
    "\n",
    "    X_original = dataset[pics_idx]\n",
    "    X_train_1 = convulve_whole_dataset(dataset[pics_idx], 'simple')\n",
    "    X_train_2 = convulve_whole_dataset(dataset[pics_idx], 'advance')\n",
    "\n",
    "    ile = len(idx_list)\n",
    "    original = np.zeros((ile, IMG_SIZE, IMG_SIZE))\n",
    "    simple_k = np.zeros((ile, IMG_SIZE, IMG_SIZE))\n",
    "    advance_k = np.zeros((ile, IMG_SIZE, IMG_SIZE))\n",
    "\n",
    "    for i, idx in enumerate(range(ile)):\n",
    "        original[i, :, :] = X_original[idx].reshape((IMG_SIZE, IMG_SIZE))\n",
    "        simple_k[i] = X_train_1[idx].reshape((IMG_SIZE, IMG_SIZE))\n",
    "        advance_k[i] = X_train_2[idx].reshape((IMG_SIZE, IMG_SIZE))\n",
    "\n",
    "    data = np.vstack([original,simple_k, advance_k])\n",
    "\n",
    "    order_of_pictures  =[0, 6, 12,\n",
    "                         1, 7, 13, \n",
    "                         2, 8, 14, \n",
    "                         3, 9, 15, \n",
    "                         4, 10, 16, \n",
    "                         5, 11, 17]\n",
    "\n",
    "    fig, axes = plt.subplots(ile, 3, figsize=(ile*10, round(ile * ile/3)*10),\n",
    "                            sharex=True, sharey=True,\n",
    "                            subplot_kw={'xticks':[], 'yticks':[]},\n",
    "                            gridspec_kw=dict(hspace=0, wspace=0))\n",
    "\n",
    "    for x, ax in enumerate(axes.flat):\n",
    "            ax.imshow(data[order_of_pictures[x], :, :], cmap='gray')\n",
    "            ax.spines[\"right\"].set_visible(False)\n",
    "            ax.spines[\"left\"].set_visible(False)"
   ]
  },
  {
   "cell_type": "markdown",
   "metadata": {},
   "source": [
    "# Visualize all 3 methods"
   ]
  },
  {
   "cell_type": "code",
   "execution_count": null,
   "metadata": {},
   "outputs": [],
   "source": [
    "convulve_whole_dataset(X_train[0:20]).shape\n",
    "plt.imshow(convulve_whole_dataset(X_train[0:20], 'ad')[5].reshape(28, 28), cmap='gray')"
   ]
  },
  {
   "cell_type": "code",
   "execution_count": null,
   "metadata": {},
   "outputs": [],
   "source": [
    "pics_idx = [1, 50, 100, 500, 600, 800]\n",
    "visualize_conv_kernels(idx_list, X)"
   ]
  },
  {
   "cell_type": "markdown",
   "metadata": {},
   "source": [
    "# Method 1 "
   ]
  },
  {
   "cell_type": "code",
   "execution_count": null,
   "metadata": {},
   "outputs": [],
   "source": [
    "method = 'normal'"
   ]
  },
  {
   "cell_type": "code",
   "execution_count": 3,
   "metadata": {
    "_cell_guid": "b1076dfc-b9ad-4769-8c92-a6c4dae69d19",
    "_uuid": "8f2839f25d086af736a60e9eeb907d3b93b6e0e5"
   },
   "outputs": [],
   "source": [
    "X_train = np.loadtxt('train.csv', skiprows=1, delimiter=',')\n",
    "X_train = np.delete(X_train, 0, axis=1)\n",
    "labels = np.loadtxt('train.csv', usecols= 0, skiprows=1, delimiter=',', dtype= np.int)\n",
    "X_test = np.loadtxt('test.csv', skiprows=1, delimiter=',')"
   ]
  },
  {
   "cell_type": "code",
   "execution_count": 9,
   "metadata": {},
   "outputs": [
    {
     "name": "stdout",
     "output_type": "stream",
     "text": [
      "Epoch 0 cost:  3.3156412440406213\n",
      "Epoch 100 cost:  1.5201727491881316\n",
      "Epoch 200 cost:  1.1339113270880137\n",
      "Epoch 300 cost:  0.9331000781469116\n",
      "Epoch 400 cost:  0.8075140349193881\n",
      "Epoch 500 cost:  0.7197615429871882\n",
      "Epoch 600 cost:  0.6539999471014937\n",
      "Epoch 700 cost:  0.6027089738741617\n",
      "Epoch 800 cost:  0.5616005882349085\n",
      "Epoch 900 cost:  0.527904107606951\n"
     ]
    }
   ],
   "source": [
    "X_train = standarize_normalize_set(X_train)\n",
    "y_train = one_hot_encoding(labels)\n",
    "W1, b1, W2, b2, W3, b3 = train_ann(X_train, y_train,learning_rate = 0.01, epochs=1000)"
   ]
  },
  {
   "cell_type": "code",
   "execution_count": 10,
   "metadata": {},
   "outputs": [],
   "source": [
    "normal = pd.DataFrame(cost_list, columns=['epochs', 'Cost'])"
   ]
  },
  {
   "cell_type": "code",
   "execution_count": 9,
   "metadata": {},
   "outputs": [],
   "source": [
    "X_test = standarize_normalize_set(X_test)\n",
    "y_pred = predict_new_data(X_test, W1, b1, W2, b2, W3, b3)"
   ]
  },
  {
   "cell_type": "code",
   "execution_count": 10,
   "metadata": {},
   "outputs": [],
   "source": [
    "pd.DataFrame({'ImageId': np.arange(1, len(y_pred)+1), 'Label': y_pred}) \\\n",
    ".to_csv(\"Submission_{}.csv\".format(method), index=False)"
   ]
  },
  {
   "cell_type": "code",
   "execution_count": 20,
   "metadata": {
    "scrolled": false
   },
   "outputs": [
    {
     "ename": "NameError",
     "evalue": "name 'W1' is not defined",
     "output_type": "error",
     "traceback": [
      "\u001b[1;31m---------------------------------------------------------------------------\u001b[0m",
      "\u001b[1;31mNameError\u001b[0m                                 Traceback (most recent call last)",
      "\u001b[1;32m<ipython-input-20-0b0b1218455b>\u001b[0m in \u001b[0;36m<module>\u001b[1;34m\u001b[0m\n\u001b[1;32m----> 1\u001b[1;33m \u001b[1;32mdel\u001b[0m \u001b[0mW1\u001b[0m\u001b[1;33m,\u001b[0m \u001b[0mb1\u001b[0m\u001b[1;33m,\u001b[0m \u001b[0mW2\u001b[0m\u001b[1;33m,\u001b[0m \u001b[0mb2\u001b[0m\u001b[1;33m,\u001b[0m \u001b[0mW3\u001b[0m\u001b[1;33m,\u001b[0m \u001b[0mb3\u001b[0m\u001b[1;33m\u001b[0m\u001b[1;33m\u001b[0m\u001b[0m\n\u001b[0m",
      "\u001b[1;31mNameError\u001b[0m: name 'W1' is not defined"
     ]
    }
   ],
   "source": [
    "del W1, b1, W2, b2, W3, b3"
   ]
  },
  {
   "cell_type": "markdown",
   "metadata": {},
   "source": [
    "# Method 2"
   ]
  },
  {
   "cell_type": "code",
   "execution_count": null,
   "metadata": {},
   "outputs": [],
   "source": [
    "method = 'simple'"
   ]
  },
  {
   "cell_type": "code",
   "execution_count": 21,
   "metadata": {},
   "outputs": [],
   "source": [
    "X_train = np.loadtxt('train.csv', skiprows=1, delimiter=',')\n",
    "X_train = np.delete(X_train, 0, axis=1)\n",
    "labels = np.loadtxt('train.csv', usecols= 0, skiprows=1, delimiter=',', dtype= np.int)\n",
    "X_test = np.loadtxt('test.csv', skiprows=1, delimiter=',')"
   ]
  },
  {
   "cell_type": "code",
   "execution_count": 22,
   "metadata": {},
   "outputs": [],
   "source": [
    "y_train = one_hot_encoding(labels)\n",
    "\n",
    "X_train = standarize_normalize_set(X_train)\n",
    "X_test = standarize_normalize_set(X_test)\n",
    "X_train = reshape_x_for_cnn(X_train, 28, 28)\n",
    "X_test = reshape_x_for_cnn(X_test, 28, 28)"
   ]
  },
  {
   "cell_type": "code",
   "execution_count": 23,
   "metadata": {},
   "outputs": [],
   "source": [
    "X_train_ = convulve_whole_dataset(X_train)\n",
    "X_test_ = convulve_whole_dataset(X_test)\n",
    "y_train_ = y_train.copy()"
   ]
  },
  {
   "cell_type": "code",
   "execution_count": 24,
   "metadata": {},
   "outputs": [
    {
     "name": "stdout",
     "output_type": "stream",
     "text": [
      "Epoch 0 cost:  4.6707051119153356\n",
      "Epoch 100 cost:  2.0872718754348942\n",
      "Epoch 200 cost:  1.9337170764483254\n",
      "Epoch 300 cost:  1.7889658688156775\n",
      "Epoch 400 cost:  1.6515034215517412\n",
      "Epoch 500 cost:  1.5181859881864124\n",
      "Epoch 600 cost:  1.3939517760720548\n",
      "Epoch 700 cost:  1.2932213415245464\n",
      "Epoch 800 cost:  1.2103292294993597\n",
      "Epoch 900 cost:  1.1426160352338846\n"
     ]
    }
   ],
   "source": [
    "W1, b1, W2, b2, W3, b3 = train_ann(X_train_, y_train_,learning_rate = 0.01, epochs=1000)"
   ]
  },
  {
   "cell_type": "code",
   "execution_count": 25,
   "metadata": {},
   "outputs": [],
   "source": [
    "simple = pd.DataFrame(cost_list, columns=['epochs', 'Cost'])"
   ]
  },
  {
   "cell_type": "code",
   "execution_count": 21,
   "metadata": {},
   "outputs": [],
   "source": [
    "y_pred = predict_new_data(X_test_, W1, b1, W2, b2, W3, b3)"
   ]
  },
  {
   "cell_type": "code",
   "execution_count": 22,
   "metadata": {},
   "outputs": [],
   "source": [
    "pd.DataFrame({'ImageId': np.arange(1, len(y_pred)+1), 'Label': y_pred}) \\\n",
    ".to_csv(\"Submission_Simple.csv\", index=False)"
   ]
  },
  {
   "cell_type": "code",
   "execution_count": 27,
   "metadata": {},
   "outputs": [],
   "source": [
    "del W1, b1, W2, b2, W3, b3"
   ]
  },
  {
   "cell_type": "markdown",
   "metadata": {},
   "source": [
    "# Method 3"
   ]
  },
  {
   "cell_type": "code",
   "execution_count": 28,
   "metadata": {},
   "outputs": [],
   "source": [
    "method = 'advance'"
   ]
  },
  {
   "cell_type": "code",
   "execution_count": 26,
   "metadata": {},
   "outputs": [],
   "source": [
    "X_train = np.loadtxt('train.csv', skiprows=1, delimiter=',')\n",
    "X_train = np.delete(X_train, 0, axis=1)\n",
    "labels = np.loadtxt('train.csv', usecols= 0, skiprows=1, delimiter=',', dtype= np.int)\n",
    "X_test = np.loadtxt('test.csv', skiprows=1, delimiter=',')"
   ]
  },
  {
   "cell_type": "code",
   "execution_count": 29,
   "metadata": {},
   "outputs": [],
   "source": [
    "y_train = one_hot_encoding(labels)\n",
    "\n",
    "X_train = standarize_normalize_set(X_train)\n",
    "X_test = standarize_normalize_set(X_test)\n",
    "X_train = reshape_x_for_cnn(X_train, 28, 28)\n",
    "X_test = reshape_x_for_cnn(X_test, 28, 28)"
   ]
  },
  {
   "cell_type": "code",
   "execution_count": 30,
   "metadata": {},
   "outputs": [],
   "source": [
    "X_train_ = convulve_whole_dataset(X_train, method)\n",
    "X_test_ = convulve_whole_dataset(X_test, method)\n",
    "y_train_ = y_train.copy()"
   ]
  },
  {
   "cell_type": "code",
   "execution_count": 31,
   "metadata": {},
   "outputs": [
    {
     "name": "stdout",
     "output_type": "stream",
     "text": [
      "Epoch 0 cost:  4.126507800098724\n",
      "Epoch 100 cost:  2.0590391769074388\n",
      "Epoch 200 cost:  1.824459059127988\n",
      "Epoch 300 cost:  1.6360722351735888\n",
      "Epoch 400 cost:  1.5042807992261744\n",
      "Epoch 500 cost:  1.3991732137210968\n",
      "Epoch 600 cost:  1.3110947638539683\n",
      "Epoch 700 cost:  1.2351749928708264\n",
      "Epoch 800 cost:  1.1685390839738914\n",
      "Epoch 900 cost:  1.110768257202879\n"
     ]
    }
   ],
   "source": [
    "W1, b1, W2, b2, W3, b3 = train_ann(X_train_, y_train_,learning_rate = 0.01, epochs=1000)"
   ]
  },
  {
   "cell_type": "code",
   "execution_count": 32,
   "metadata": {},
   "outputs": [],
   "source": [
    "advance = pd.DataFrame(cost_list, columns=['epochs', 'Cost'])"
   ]
  },
  {
   "cell_type": "code",
   "execution_count": null,
   "metadata": {},
   "outputs": [],
   "source": [
    "y_pred = predict_new_data(X_test_, W1, b1, W2, b2, W3, b3)"
   ]
  },
  {
   "cell_type": "code",
   "execution_count": null,
   "metadata": {},
   "outputs": [],
   "source": [
    "pd.DataFrame({'ImageId': np.arange(1, len(y_pred)+1), 'Label': y_pred}) \\\n",
    ".to_csv(\"Submission_{}.csv\".format(method), index=False)"
   ]
  },
  {
   "cell_type": "markdown",
   "metadata": {},
   "source": [
    "# Comparison"
   ]
  },
  {
   "cell_type": "code",
   "execution_count": 38,
   "metadata": {},
   "outputs": [
    {
     "data": {
      "text/plain": [
       "<matplotlib.axes._subplots.AxesSubplot at 0x3800b9def0>"
      ]
     },
     "execution_count": 38,
     "metadata": {},
     "output_type": "execute_result"
    },
    {
     "data": {
      "image/png": "[encoded data removed]",
      "text/plain": [
       "<Figure size 432x288 with 1 Axes>"
      ]
     },
     "metadata": {
      "needs_background": "light"
     },
     "output_type": "display_data"
    }
   ],
   "source": [
    "comparison = pd.concat([normal, \n",
    "                        simple.drop('epochs', axis=1), \n",
    "                        advance.drop('epochs', axis=1)], axis=1)\n",
    "comparison.columns =['epochs', 'ANN', \n",
    "                     'ANN with sharpen kernel', 'ANN with sobel kernel']\n",
    "comparison = comparison.set_index('epochs')\n",
    "comparison.plot()"
   ]
  },
  {
   "cell_type": "code",
   "execution_count": null,
   "metadata": {},
   "outputs": [],
   "source": []
  }
 ],
 "metadata": {
  "kernelspec": {
   "display_name": "Python 3",
   "language": "python",
   "name": "python3"
  },
  "language_info": {
   "codemirror_mode": {
    "name": "ipython",
    "version": 3
   },
   "file_extension": ".py",
   "mimetype": "text/x-python",
   "name": "python",
   "nbconvert_exporter": "python",
   "pygments_lexer": "ipython3",
   "version": "3.7.3"
  }
 },
 "nbformat": 4,
 "nbformat_minor": 1
}
