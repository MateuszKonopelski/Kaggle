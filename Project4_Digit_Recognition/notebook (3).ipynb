{
 "cells": [
  {
   "cell_type": "markdown",
   "metadata": {},
   "source": [
    "------------\n",
    "\n",
    "### Author comment:\n",
    "You won't be able to run the whole notebook using commit button because there are too many calculations and they exceed the kernel time. Therefore while developing it, I had to run part by part and exporting to CSV finished pieces. This is a pain in neck but I wanted to do proper GridSearch on all Machine Learning techniques. \n",
    "\n",
    "-----------\n"
   ]
  },
  {
   "cell_type": "markdown",
   "metadata": {
    "_uuid": "8f2839f25d086af736a60e9eeb907d3b93b6e0e5",
    "_cell_guid": "b1076dfc-b9ad-4769-8c92-a6c4dae69d19",
    "trusted": true,
    "collapsed": true
   },
   "source": [
    "# Digit Recognition Challange\n",
    "\n",
    "### Start here if...\n",
    "You have some experience with R or Python and machine learning basics, but you’re new to computer vision. This competition is the perfect introduction to techniques like neural networks using a classic dataset including pre-extracted features.\n",
    "\n",
    "## Competition Description\n",
    "MNIST (\"Modified National Institute of Standards and Technology\") is the de facto “hello world” dataset of computer vision. Since its release in 1999, this classic dataset of handwritten images has served as the basis for benchmarking classification algorithms. As new machine learning techniques emerge, MNIST remains a reliable resource for researchers and learners alike.\n",
    "\n",
    "In this competition, your goal is to correctly identify digits from a dataset of tens of thousands of handwritten images. We’ve curated a set of tutorial-style kernels which cover everything from regression to neural networks. We encourage you to experiment with different algorithms to learn first-hand what works well and how techniques compare.\n",
    "\n",
    "### Practice Skills\n",
    "Computer vision fundamentals including simple neural networks\n",
    "\n",
    "Classification methods such as SVM and K-nearest neighbors\n",
    "\n",
    "### Acknowledgements \n",
    "More details about the dataset, including algorithms that have been tried on it and their levels of success, can be found at http://yann.lecun.com/exdb/mnist/index.html. The dataset is made available under a Creative Commons Attribution-Share Alike 3.0 license.\n",
    "\n",
    "\n",
    "## Data\n",
    "The data files train.csv and test.csv contain gray-scale images of hand-drawn digits, from zero through nine.\n",
    "\n",
    "Each image is 28 pixels in height and 28 pixels in width, for a total of 784 pixels in total. Each pixel has a single pixel-value associated with it, indicating the lightness or darkness of that pixel, with higher numbers meaning darker. This pixel-value is an integer between 0 and 255, inclusive.\n",
    "\n",
    "The training data set, (train.csv), has 785 columns. The first column, called \"label\", is the digit that was drawn by the user. The rest of the columns contain the pixel-values of the associated image.\n",
    "\n",
    "Each pixel column in the training set has a name like pixelx, where x is an integer between 0 and 783, inclusive. To locate this pixel on the image, suppose that we have decomposed x as x = i * 28 + j, where i and j are integers between 0 and 27, inclusive. Then pixelx is located on row i and column j of a 28 x 28 matrix, (indexing by zero).\n",
    "\n",
    "For example, pixel31 indicates the pixel that is in the fourth column from the left, and the second row from the top, as in the ascii-diagram below.\n",
    "\n",
    "Visually, if we omit the \"pixel\" prefix, the pixels make up the image like this:\n",
    "\n",
    "000 001 002 003 ... 026 027\n",
    "\n",
    "028 029 030 031 ... 054 055\n",
    "\n",
    "056 057 058 059 ... 082 083\n",
    "\n",
    " |   |   |   |  ...  |   |\n",
    "\n",
    "728 729 730 731 ... 754 755\n",
    "\n",
    "756 757 758 759 ... 782 783 \n",
    "\n",
    "\n",
    "The test data set, (test.csv), is the same as the training set, except that it does not contain the \"label\" column.\n",
    "\n",
    "Your submission file should be in the following format: For each of the 28000 images in the test set, output a single line containing the ImageId and the digit you predict. For example, if you predict that the first image is of a 3, the second image is of a 7, and the third image is of a 8, then your submission file would look like:\n",
    "\n",
    "ImageId,Label\n",
    "1,3\n",
    "2,7\n",
    "3,8 \n",
    "(27997 more lines)\n",
    "The evaluation metric for this contest is the categorization accuracy, or the proportion of test images that are correctly classified. For example, a categorization accuracy of 0.97 indicates that you have correctly classified all but 3% of the images."
   ]
  },
  {
   "cell_type": "code",
   "execution_count": 4,
   "metadata": {
    "trusted": true,
    "_uuid": "6c6707363c8791d666b94db11429af3efc07ed51"
   },
   "outputs": [
    {
     "name": "stdout",
     "output_type": "stream",
     "text": [
      "Import finished\n"
     ]
    }
   ],
   "source": [
    "# SET UP ENVIRONMENT\n",
    "import pandas as pd\n",
    "import numpy as np\n",
    "import matplotlib.pyplot as plt\n",
    "%matplotlib inline\n",
    "from datetime import datetime as dt\n",
    "DIR = '../input/digit-recognizer/'\n",
    "train_set = pd.read_csv(DIR + 'train.csv')\n",
    "print('Import finished')"
   ]
  },
  {
   "cell_type": "markdown",
   "metadata": {
    "_uuid": "2ace979f218724a6ca5d7472cd2a67989483b6b9"
   },
   "source": [
    "### Convert Grayscale to matplotlib format\n\nBecause pixels are saved in format int(0-255) and matplotlib plots read float point [0, 1], therefore for purpose of showing images of those numbers I need to convert them"
   ]
  },
  {
   "cell_type": "code",
   "execution_count": 13,
   "metadata": {
    "trusted": true,
    "_uuid": "815bd245404a2559829066fae999f03b62ef2118"
   },
   "outputs": [
    {
     "name": "stdout",
     "output_type": "stream",
     "text": [
      "train_subset created\n"
     ]
    }
   ],
   "source": [
    "# convert to matplotlib colors \n",
    "train_subset = pd.DataFrame()\n",
    "\n",
    "for x in range(10):\n",
    "    train_subset = pd.concat([train_subset, train_set.query('label == @x').head(10)], axis=0, ignore_index=True)\n",
    "   \n",
    "train_subset.iloc[:, 1:] = train_subset.iloc[:, 1:].applymap(lambda x: round((255 - x)/ 255, 2))\n",
    "\n",
    "print('train_subset created')"
   ]
  },
  {
   "cell_type": "markdown",
   "metadata": {
    "_cell_guid": "79c7e3d0-c299-4dcb-8224-4455121ee9b0",
    "_uuid": "d629ff2d2480ee46fbb7e2d37f6b5fab8052498a",
    "trusted": true,
    "collapsed": true
   },
   "source": [
    "## Showing the numbers\n\nThis part is done only to visualize how the pixels colors corresponds to numbers and to show couple of different handwritting to have better feel. "
   ]
  },
  {
   "cell_type": "code",
   "execution_count": 5,
   "metadata": {
    "trusted": true,
    "_uuid": "c8e670b37c6765e6a0daf65b39546635074964d4"
   },
   "outputs": [
    {
     "data": {
      "image/png": "[encoded data removed]",
      "text/plain": [
       "<matplotlib.figure.Figure at 0x7f7e4d641c50>"
      ]
     },
     "metadata": {},
     "output_type": "display_data"
    }
   ],
   "source": [
    "fig, axes = plt.subplots(10, 10, figsize=(15, 15),\n",
    "                    sharex=True, sharey=True,\n",
    "                    subplot_kw={'xticks':[], 'yticks':[]},\n",
    "                    gridspec_kw=dict(hspace=0, wspace=0))\n",
    "\n",
    "for x, ax in enumerate(axes.flat):\n",
    "    \n",
    "    train_zero = np.empty(shape=(28, 28))\n",
    "    column = 1                  # because column=0 is label\n",
    "    \n",
    "    for i in range(28):\n",
    "        for j in range(28):\n",
    "            \n",
    "            train_zero[i, j] = train_subset.iloc[x, column]\n",
    "            \n",
    "            column += 1\n",
    "    \n",
    "    ax.imshow(train_zero, cmap='gray')\n",
    "    ax.text(0.05, 0.05, str(train_subset.label[x]),\n",
    "               transform=ax.transAxes, color='blue')\n",
    "    ax.spines[\"right\"].set_visible(False)\n",
    "    ax.spines[\"left\"].set_visible(False)"
   ]
  },
  {
   "cell_type": "markdown",
   "metadata": {
    "_uuid": "111320dfe08abd775588ff02354531a9efb10a2e"
   },
   "source": [
    "## Machine Learning algorithms development and assessment\nEach label has 784 features which is too much for most of machine learning algorithms, therefore I will use PCA to readuce the dimensions to feasible number. Alsom because I don't kno which will give the best result I will loop ML methods through numbers: [5, 10, 20, 30, 40, 50, 75, 100].\n\nThen I will cross_validate all most popular classification methods with default hyperparameters to get a good overlook. \n\nNext I will use methods with the best results and tune the hyperparameter to create a better prediction method. "
   ]
  },
  {
   "cell_type": "code",
   "execution_count": 5,
   "metadata": {
    "trusted": true,
    "_uuid": "ccbf34dae506c54d0961cdcb22c70a06a0b05ada"
   },
   "outputs": [
    {
     "name": "stdout",
     "output_type": "stream",
     "text": [
      "X and labels created\n"
     ]
    }
   ],
   "source": [
    "X =  train_set.drop('label', axis=1)\n",
    "X = X/255.0\n",
    "labels = train_set['label']\n",
    "del train_set\n",
    "\n",
    "print('X and labels created')"
   ]
  },
  {
   "cell_type": "code",
   "execution_count": 6,
   "metadata": {
    "trusted": true,
    "_uuid": "8347eac856ce5d50e77db0c74506ace7b69723b9"
   },
   "outputs": [
    {
     "data": {
      "text/plain": [
       "Text(0,0.5,'cumulative explained variance')"
      ]
     },
     "execution_count": 6,
     "metadata": {},
     "output_type": "execute_result"
    },
    {
     "data": {
      "image/png": "[encoded data removed]",
      "text/plain": [
       "<matplotlib.figure.Figure at 0x7fda1be75208>"
      ]
     },
     "metadata": {},
     "output_type": "display_data"
    }
   ],
   "source": [
    "from sklearn.decomposition import PCA\n",
    "\n",
    "def reduce_byPCA(df, n):\n",
    "    pca = PCA(n_components=n)\n",
    "    pca.fit(df)\n",
    "    df = pca.transform(df)\n",
    "\n",
    "    columns = ['pca{}'.format(x) for x in range(n)]\n",
    "\n",
    "    return pd.DataFrame(df, columns=columns)\n",
    "\n",
    "pca = PCA().fit(X)\n",
    "plt.plot(np.cumsum(pca.explained_variance_ratio_))\n",
    "plt.xlabel('number of components')\n",
    "plt.ylabel('cumulative explained variance')"
   ]
  },
  {
   "cell_type": "code",
   "execution_count": 7,
   "metadata": {
    "trusted": true,
    "_uuid": "fe0ca834b40b49d76599a32aa39d819ee1843251"
   },
   "outputs": [
    {
     "name": "stdout",
     "output_type": "stream",
     "text": [
      "MLA list created.\n"
     ]
    }
   ],
   "source": [
    "from sklearn.decomposition import PCA\n",
    "\n",
    "import sklearn as sk\n",
    "import sklearn.ensemble\n",
    "import sklearn.linear_model\n",
    "import sklearn.naive_bayes\n",
    "import sklearn.discriminant_analysis\n",
    "\n",
    "from xgboost import XGBClassifier\n",
    "\n",
    "\n",
    "\n",
    "ML = [\n",
    "        # Naive Bayss Methods:\n",
    "        sk.naive_bayes.GaussianNB(),\n",
    "        sk.naive_bayes.BernoulliNB(),\n",
    "        \n",
    "        # GLM:\n",
    "        sk.linear_model.ElasticNetCV(),\n",
    "        sk.linear_model.LarsCV(),\n",
    "        sk.linear_model.LassoLarsCV(),\n",
    "#        sk.linear_model.LogisticRegressionCV(),\n",
    "        sk.linear_model.PassiveAggressiveRegressor(max_iter=5, tol=None),\n",
    "        sk.linear_model.Perceptron(max_iter=5, tol=None),\n",
    "        sk.linear_model.RidgeClassifierCV(),\n",
    "        sk.linear_model.SGDClassifier(max_iter=5, tol=None),\n",
    "        \n",
    "        # SVM\n",
    "#        sk.svm.SVC(probability=True, gamma='auto'),\n",
    "        ##sk.svm.NuSVC(probability=True),\n",
    "        ##sk.svm.LinearSVC(),\n",
    "        \n",
    "        # Ensemble methods\n",
    "        sk.ensemble.RandomForestClassifier(),\n",
    "#        sk.ensemble.AdaBoostClassifier(),\n",
    "#        sk.ensemble.BaggingClassifier(),\n",
    "        sk.ensemble.ExtraTreesClassifier(),\n",
    "#        sk.ensemble.GradientBoostingClassifier(),\n",
    "        \n",
    "        # Tree models\n",
    "        sk.tree.DecisionTreeClassifier(),\n",
    "        sk.tree.ExtraTreeClassifier()\n",
    "        \n",
    "        #XGBoosting\n",
    "#        XGBClassifier(),\n",
    "        \n",
    "        # KNN\n",
    "#        sk.neighbors.KNeighborsClassifier(),\n",
    "        #sk.neighbors.RadiusNeighborsClassifier(),\n",
    "        \n",
    "        # Discriminant Analysis\n",
    "#        sk.discriminant_analysis.LinearDiscriminantAnalysis(),\n",
    "#        sk.discriminant_analysis.QuadraticDiscriminantAnalysis()\n",
    "        ]\n",
    "print('MLA list created.')"
   ]
  },
  {
   "cell_type": "code",
   "execution_count": 15,
   "metadata": {
    "trusted": true,
    "_uuid": "2bd242ed12e1ccd98c41fa2040b7c99164f53a32"
   },
   "outputs": [
    {
     "name": "stdout",
     "output_type": "stream",
     "text": [
      "PCA with 75 components:\n\tMLA algorithm: GaussianNB has finished in 0:00:09.262848\n\tMLA algorithm: BernoulliNB has finished in 0:00:01.101832\n\tMLA algorithm: ElasticNetCV has finished in 0:00:03.410861\n\tMLA algorithm: LarsCV has finished in 0:00:03.789921\n\tMLA algorithm: LassoLarsCV has finished in 0:00:04.109640\n\tMLA algorithm: PassiveAggressiveRegressor has finished in 0:00:00.579958\n\tMLA algorithm: Perceptron has finished in 0:00:01.974799\n\tMLA algorithm: RidgeClassifierCV has finished in 0:00:02.448072\n\tMLA algorithm: SGDClassifier has finished in 0:00:02.064596\n\tMLA algorithm: RandomForestClassifier has finished in 0:00:08.970649\n\tMLA algorithm: ExtraTreesClassifier has finished in 0:00:02.509452\n\tMLA algorithm: DecisionTreeClassifier has finished in 0:00:18.288220\n\tMLA algorithm: ExtraTreeClassifier has finished in 0:00:00.305061\nPCA with 125 components:\n\tMLA algorithm: GaussianNB has finished in 0:00:08.845368\n\tMLA algorithm: BernoulliNB has finished in 0:00:01.344790\n\tMLA algorithm: ElasticNetCV has finished in 0:00:05.062037\n\tMLA algorithm: LarsCV has finished in 0:00:06.401473\n\tMLA algorithm: LassoLarsCV has finished in 0:00:06.693738\n\tMLA algorithm: PassiveAggressiveRegressor has finished in 0:00:00.773219\n\tMLA algorithm: Perceptron has finished in 0:00:02.796434\n\tMLA algorithm: RidgeClassifierCV has finished in 0:00:05.132772\n\tMLA algorithm: SGDClassifier has finished in 0:00:02.783831\n\tMLA algorithm: RandomForestClassifier has finished in 0:00:12.614009\n\tMLA algorithm: ExtraTreesClassifier has finished in 0:00:03.470267\n\tMLA algorithm: DecisionTreeClassifier has finished in 0:00:31.698079\n\tMLA algorithm: ExtraTreeClassifier has finished in 0:00:00.420218\n"
     ]
    }
   ],
   "source": [
    "start = dt.now()\n",
    "\n",
    "import sklearn.model_selection as model_selection\n",
    "splits = 2\n",
    "cv_split = model_selection.ShuffleSplit(n_splits=splits, test_size=.1, train_size=.9, random_state=8)\n",
    "\n",
    "#for n in [25, 50, 75, 100, 125, 150]:\n",
    "for n in [75, 125]:\n",
    "    \n",
    "    print('PCA with {} components:'.format(n))\n",
    "    X_pca = reduce_byPCA(X, n)\n",
    "    \n",
    "    MLA_columns =  ['PCA_n', 'MLA Name', 'MLA Parameters', 'MLA Test Accuracy Mean', 'MLA Test Accuracy 3*STD', 'MLA Time']\n",
    "    MLA = pd.DataFrame(columns=MLA_columns)\n",
    "\n",
    "    X1, X2, y1, y2 = model_selection.train_test_split(X_pca, labels, test_size=0.1, train_size=0.9, random_state=0)\n",
    "    #MLA_predict = labels\n",
    "\n",
    "    for row, alg in enumerate(ML):\n",
    "\n",
    "        cv_results = model_selection.cross_validate(alg, X_pca, labels, cv =cv_split)\n",
    "        MLA.loc[row, 'PCA_n'] = n\n",
    "        MLA_name = alg.__class__.__name__\n",
    "        MLA.loc[row, 'MLA Name'] = MLA_name\n",
    "        MLA.loc[row, 'MLA Parameters'] = str(alg.get_params())\n",
    "        MLA.loc[row, 'MLA Time'] = cv_results['fit_time'].mean()\n",
    "        MLA.loc[row, 'MLA Test Accuracy Mean'] = cv_results['test_score'].mean()   \n",
    "        MLA.loc[row, 'MLA Test Accuracy 3*STD'] = cv_results['test_score'].std()*3\n",
    "\n",
    "        #alg.fit(X1, y1)\n",
    "        #MLA_predict[MLA_name] = alg.predict(X2)\n",
    "\n",
    "        print('\\tMLA algorithm: {} has finished in {}'.format(MLA_name, dt.now() - start))\n",
    "        start = dt.now()"
   ]
  },
  {
   "cell_type": "code",
   "execution_count": 28,
   "metadata": {
    "trusted": true,
    "_uuid": "db57194285a2c00ed7affc97275d7dc87c270660",
    "scrolled": false,
    "_kg_hide-output": false
   },
   "outputs": [
    {
     "name": "stdout",
     "output_type": "stream",
     "text": [
      "{'bootstrap': True, 'class_weight': None, 'criterion': 'gini', 'max_depth': None, 'max_features': 'auto', 'max_leaf_nodes': None, 'min_impurity_decrease': 0.0, 'min_impurity_split': None, 'min_samples_leaf': 1, 'min_samples_split': 2, 'min_weight_fraction_leaf': 0.0, 'n_estimators': 10, 'n_jobs': 1, 'oob_score': False, 'random_state': None, 'verbose': 0, 'warm_start': False}\n"
     ]
    },
    {
     "data": {
      "text/html": [
       "<div>\n<style scoped>\n    .dataframe tbody tr th:only-of-type {\n        vertical-align: middle;\n    }\n\n    .dataframe tbody tr th {\n        vertical-align: top;\n    }\n\n    .dataframe thead th {\n        text-align: right;\n    }\n</style>\n<table border=\"1\" class=\"dataframe\">\n  <thead>\n    <tr style=\"text-align: right;\">\n      <th></th>\n      <th>PCA_n</th>\n      <th>MLA Name</th>\n      <th>MLA Parameters</th>\n      <th>MLA Test Accuracy Mean</th>\n      <th>MLA Test Accuracy 3*STD</th>\n      <th>MLA Time</th>\n    </tr>\n  </thead>\n  <tbody>\n    <tr>\n      <th>8</th>\n      <td>125</td>\n      <td>SGDClassifier</td>\n      <td>{'alpha': 0.0001, 'average': False, 'class_wei...</td>\n      <td>0.895595</td>\n      <td>0.0132143</td>\n      <td>1.37501</td>\n    </tr>\n    <tr>\n      <th>9</th>\n      <td>125</td>\n      <td>RandomForestClassifier</td>\n      <td>{'bootstrap': True, 'class_weight': None, 'cri...</td>\n      <td>0.89381</td>\n      <td>0.005</td>\n      <td>6.01194</td>\n    </tr>\n    <tr>\n      <th>6</th>\n      <td>125</td>\n      <td>Perceptron</td>\n      <td>{'alpha': 0.0001, 'class_weight': None, 'eta0'...</td>\n      <td>0.868333</td>\n      <td>0.015</td>\n      <td>1.38097</td>\n    </tr>\n    <tr>\n      <th>0</th>\n      <td>125</td>\n      <td>GaussianNB</td>\n      <td>{'priors': None, 'var_smoothing': 1e-09}</td>\n      <td>0.867262</td>\n      <td>0.00464286</td>\n      <td>0.291863</td>\n    </tr>\n    <tr>\n      <th>10</th>\n      <td>125</td>\n      <td>ExtraTreesClassifier</td>\n      <td>{'bootstrap': False, 'class_weight': None, 'cr...</td>\n      <td>0.860476</td>\n      <td>0.00642857</td>\n      <td>1.35899</td>\n    </tr>\n    <tr>\n      <th>7</th>\n      <td>125</td>\n      <td>RidgeClassifierCV</td>\n      <td>{'alphas': array([  0.1,   1. ,  10. ]), 'clas...</td>\n      <td>0.853095</td>\n      <td>0.0135714</td>\n      <td>2.47969</td>\n    </tr>\n    <tr>\n      <th>11</th>\n      <td>125</td>\n      <td>DecisionTreeClassifier</td>\n      <td>{'class_weight': None, 'criterion': 'gini', 'm...</td>\n      <td>0.814048</td>\n      <td>0.0135714</td>\n      <td>15.8</td>\n    </tr>\n    <tr>\n      <th>1</th>\n      <td>125</td>\n      <td>BernoulliNB</td>\n      <td>{'alpha': 1.0, 'binarize': 0.0, 'class_prior':...</td>\n      <td>0.740833</td>\n      <td>0.0075</td>\n      <td>0.353794</td>\n    </tr>\n    <tr>\n      <th>3</th>\n      <td>125</td>\n      <td>LarsCV</td>\n      <td>{'copy_X': True, 'cv': None, 'eps': 2.22044604...</td>\n      <td>0.584234</td>\n      <td>0.00846279</td>\n      <td>3.15193</td>\n    </tr>\n    <tr>\n      <th>4</th>\n      <td>125</td>\n      <td>LassoLarsCV</td>\n      <td>{'copy_X': True, 'cv': None, 'eps': 2.22044604...</td>\n      <td>0.584234</td>\n      <td>0.00846279</td>\n      <td>3.29779</td>\n    </tr>\n    <tr>\n      <th>2</th>\n      <td>125</td>\n      <td>ElasticNetCV</td>\n      <td>{'alphas': None, 'copy_X': True, 'cv': None, '...</td>\n      <td>0.58359</td>\n      <td>0.00972031</td>\n      <td>2.44142</td>\n    </tr>\n    <tr>\n      <th>12</th>\n      <td>125</td>\n      <td>ExtraTreeClassifier</td>\n      <td>{'class_weight': None, 'criterion': 'gini', 'm...</td>\n      <td>0.577738</td>\n      <td>0.0367857</td>\n      <td>0.160679</td>\n    </tr>\n    <tr>\n      <th>5</th>\n      <td>125</td>\n      <td>PassiveAggressiveRegressor</td>\n      <td>{'C': 1.0, 'average': False, 'epsilon': 0.1, '...</td>\n      <td>0.101509</td>\n      <td>0.303776</td>\n      <td>0.373921</td>\n    </tr>\n  </tbody>\n</table>\n</div>"
      ],
      "text/plain": [
       "   PCA_n                    MLA Name    ...    MLA Test Accuracy 3*STD  MLA Time\n8    125               SGDClassifier    ...                  0.0132143   1.37501\n9    125      RandomForestClassifier    ...                      0.005   6.01194\n6    125                  Perceptron    ...                      0.015   1.38097\n0    125                  GaussianNB    ...                 0.00464286  0.291863\n10   125        ExtraTreesClassifier    ...                 0.00642857   1.35899\n7    125           RidgeClassifierCV    ...                  0.0135714   2.47969\n11   125      DecisionTreeClassifier    ...                  0.0135714      15.8\n1    125                 BernoulliNB    ...                     0.0075  0.353794\n3    125                      LarsCV    ...                 0.00846279   3.15193\n4    125                 LassoLarsCV    ...                 0.00846279   3.29779\n2    125                ElasticNetCV    ...                 0.00972031   2.44142\n12   125         ExtraTreeClassifier    ...                  0.0367857  0.160679\n5    125  PassiveAggressiveRegressor    ...                   0.303776  0.373921\n\n[13 rows x 6 columns]"
      ]
     },
     "execution_count": 28,
     "metadata": {},
     "output_type": "execute_result"
    }
   ],
   "source": [
    "MLA.sort_values(by=['MLA Test Accuracy Mean'], ascending=False, inplace=True)\n",
    "print(MLA.iloc[1, 2])\n",
    "MLA"
   ]
  },
  {
   "cell_type": "code",
   "execution_count": 15,
   "metadata": {
    "trusted": true,
    "_uuid": "4eb3ac6eb5f027bf10ce469eb7205e39ea7551e5"
   },
   "outputs": [
    {
     "ename": "FileNotFoundError",
     "evalue": "File b'../input/mla-results/MLA_Results.csv' does not exist",
     "traceback": [
      "\u001b[1;31m---------------------------------------------------------------------------\u001b[0m",
      "\u001b[1;31mFileNotFoundError\u001b[0m                         Traceback (most recent call last)",
      "\u001b[1;32m<ipython-input-15-0c334bf774a3>\u001b[0m in \u001b[0;36m<module>\u001b[1;34m()\u001b[0m\n\u001b[1;32m----> 1\u001b[1;33m \u001b[0mpd\u001b[0m\u001b[1;33m.\u001b[0m\u001b[0mread_csv\u001b[0m\u001b[1;33m(\u001b[0m\u001b[1;34m'../input/mla-results/MLA_Results.csv'\u001b[0m\u001b[1;33m)\u001b[0m\u001b[1;33m\u001b[0m\u001b[0m\n\u001b[0m",
      "\u001b[1;32m~\\AppData\\Roaming\\Python\\Python36\\site-packages\\pandas\\io\\parsers.py\u001b[0m in \u001b[0;36mparser_f\u001b[1;34m(filepath_or_buffer, sep, delimiter, header, names, index_col, usecols, squeeze, prefix, mangle_dupe_cols, dtype, engine, converters, true_values, false_values, skipinitialspace, skiprows, nrows, na_values, keep_default_na, na_filter, verbose, skip_blank_lines, parse_dates, infer_datetime_format, keep_date_col, date_parser, dayfirst, iterator, chunksize, compression, thousands, decimal, lineterminator, quotechar, quoting, escapechar, comment, encoding, dialect, tupleize_cols, error_bad_lines, warn_bad_lines, skipfooter, skip_footer, doublequote, delim_whitespace, as_recarray, compact_ints, use_unsigned, low_memory, buffer_lines, memory_map, float_precision)\u001b[0m\n\u001b[0;32m    707\u001b[0m                     skip_blank_lines=skip_blank_lines)\n\u001b[0;32m    708\u001b[0m \u001b[1;33m\u001b[0m\u001b[0m\n\u001b[1;32m--> 709\u001b[1;33m         \u001b[1;32mreturn\u001b[0m \u001b[0m_read\u001b[0m\u001b[1;33m(\u001b[0m\u001b[0mfilepath_or_buffer\u001b[0m\u001b[1;33m,\u001b[0m \u001b[0mkwds\u001b[0m\u001b[1;33m)\u001b[0m\u001b[1;33m\u001b[0m\u001b[0m\n\u001b[0m\u001b[0;32m    710\u001b[0m \u001b[1;33m\u001b[0m\u001b[0m\n\u001b[0;32m    711\u001b[0m     \u001b[0mparser_f\u001b[0m\u001b[1;33m.\u001b[0m\u001b[0m__name__\u001b[0m \u001b[1;33m=\u001b[0m \u001b[0mname\u001b[0m\u001b[1;33m\u001b[0m\u001b[0m\n",
      "\u001b[1;32m~\\AppData\\Roaming\\Python\\Python36\\site-packages\\pandas\\io\\parsers.py\u001b[0m in \u001b[0;36m_read\u001b[1;34m(filepath_or_buffer, kwds)\u001b[0m\n\u001b[0;32m    447\u001b[0m \u001b[1;33m\u001b[0m\u001b[0m\n\u001b[0;32m    448\u001b[0m     \u001b[1;31m# Create the parser.\u001b[0m\u001b[1;33m\u001b[0m\u001b[1;33m\u001b[0m\u001b[0m\n\u001b[1;32m--> 449\u001b[1;33m     \u001b[0mparser\u001b[0m \u001b[1;33m=\u001b[0m \u001b[0mTextFileReader\u001b[0m\u001b[1;33m(\u001b[0m\u001b[0mfilepath_or_buffer\u001b[0m\u001b[1;33m,\u001b[0m \u001b[1;33m**\u001b[0m\u001b[0mkwds\u001b[0m\u001b[1;33m)\u001b[0m\u001b[1;33m\u001b[0m\u001b[0m\n\u001b[0m\u001b[0;32m    450\u001b[0m \u001b[1;33m\u001b[0m\u001b[0m\n\u001b[0;32m    451\u001b[0m     \u001b[1;32mif\u001b[0m \u001b[0mchunksize\u001b[0m \u001b[1;32mor\u001b[0m \u001b[0miterator\u001b[0m\u001b[1;33m:\u001b[0m\u001b[1;33m\u001b[0m\u001b[0m\n",
      "\u001b[1;32m~\\AppData\\Roaming\\Python\\Python36\\site-packages\\pandas\\io\\parsers.py\u001b[0m in \u001b[0;36m__init__\u001b[1;34m(self, f, engine, **kwds)\u001b[0m\n\u001b[0;32m    816\u001b[0m             \u001b[0mself\u001b[0m\u001b[1;33m.\u001b[0m\u001b[0moptions\u001b[0m\u001b[1;33m[\u001b[0m\u001b[1;34m'has_index_names'\u001b[0m\u001b[1;33m]\u001b[0m \u001b[1;33m=\u001b[0m \u001b[0mkwds\u001b[0m\u001b[1;33m[\u001b[0m\u001b[1;34m'has_index_names'\u001b[0m\u001b[1;33m]\u001b[0m\u001b[1;33m\u001b[0m\u001b[0m\n\u001b[0;32m    817\u001b[0m \u001b[1;33m\u001b[0m\u001b[0m\n\u001b[1;32m--> 818\u001b[1;33m         \u001b[0mself\u001b[0m\u001b[1;33m.\u001b[0m\u001b[0m_make_engine\u001b[0m\u001b[1;33m(\u001b[0m\u001b[0mself\u001b[0m\u001b[1;33m.\u001b[0m\u001b[0mengine\u001b[0m\u001b[1;33m)\u001b[0m\u001b[1;33m\u001b[0m\u001b[0m\n\u001b[0m\u001b[0;32m    819\u001b[0m \u001b[1;33m\u001b[0m\u001b[0m\n\u001b[0;32m    820\u001b[0m     \u001b[1;32mdef\u001b[0m \u001b[0mclose\u001b[0m\u001b[1;33m(\u001b[0m\u001b[0mself\u001b[0m\u001b[1;33m)\u001b[0m\u001b[1;33m:\u001b[0m\u001b[1;33m\u001b[0m\u001b[0m\n",
      "\u001b[1;32m~\\AppData\\Roaming\\Python\\Python36\\site-packages\\pandas\\io\\parsers.py\u001b[0m in \u001b[0;36m_make_engine\u001b[1;34m(self, engine)\u001b[0m\n\u001b[0;32m   1047\u001b[0m     \u001b[1;32mdef\u001b[0m \u001b[0m_make_engine\u001b[0m\u001b[1;33m(\u001b[0m\u001b[0mself\u001b[0m\u001b[1;33m,\u001b[0m \u001b[0mengine\u001b[0m\u001b[1;33m=\u001b[0m\u001b[1;34m'c'\u001b[0m\u001b[1;33m)\u001b[0m\u001b[1;33m:\u001b[0m\u001b[1;33m\u001b[0m\u001b[0m\n\u001b[0;32m   1048\u001b[0m         \u001b[1;32mif\u001b[0m \u001b[0mengine\u001b[0m \u001b[1;33m==\u001b[0m \u001b[1;34m'c'\u001b[0m\u001b[1;33m:\u001b[0m\u001b[1;33m\u001b[0m\u001b[0m\n\u001b[1;32m-> 1049\u001b[1;33m             \u001b[0mself\u001b[0m\u001b[1;33m.\u001b[0m\u001b[0m_engine\u001b[0m \u001b[1;33m=\u001b[0m \u001b[0mCParserWrapper\u001b[0m\u001b[1;33m(\u001b[0m\u001b[0mself\u001b[0m\u001b[1;33m.\u001b[0m\u001b[0mf\u001b[0m\u001b[1;33m,\u001b[0m \u001b[1;33m**\u001b[0m\u001b[0mself\u001b[0m\u001b[1;33m.\u001b[0m\u001b[0moptions\u001b[0m\u001b[1;33m)\u001b[0m\u001b[1;33m\u001b[0m\u001b[0m\n\u001b[0m\u001b[0;32m   1050\u001b[0m         \u001b[1;32melse\u001b[0m\u001b[1;33m:\u001b[0m\u001b[1;33m\u001b[0m\u001b[0m\n\u001b[0;32m   1051\u001b[0m             \u001b[1;32mif\u001b[0m \u001b[0mengine\u001b[0m \u001b[1;33m==\u001b[0m \u001b[1;34m'python'\u001b[0m\u001b[1;33m:\u001b[0m\u001b[1;33m\u001b[0m\u001b[0m\n",
      "\u001b[1;32m~\\AppData\\Roaming\\Python\\Python36\\site-packages\\pandas\\io\\parsers.py\u001b[0m in \u001b[0;36m__init__\u001b[1;34m(self, src, **kwds)\u001b[0m\n\u001b[0;32m   1693\u001b[0m         \u001b[0mkwds\u001b[0m\u001b[1;33m[\u001b[0m\u001b[1;34m'allow_leading_cols'\u001b[0m\u001b[1;33m]\u001b[0m \u001b[1;33m=\u001b[0m \u001b[0mself\u001b[0m\u001b[1;33m.\u001b[0m\u001b[0mindex_col\u001b[0m \u001b[1;32mis\u001b[0m \u001b[1;32mnot\u001b[0m \u001b[1;32mFalse\u001b[0m\u001b[1;33m\u001b[0m\u001b[0m\n\u001b[0;32m   1694\u001b[0m \u001b[1;33m\u001b[0m\u001b[0m\n\u001b[1;32m-> 1695\u001b[1;33m         \u001b[0mself\u001b[0m\u001b[1;33m.\u001b[0m\u001b[0m_reader\u001b[0m \u001b[1;33m=\u001b[0m \u001b[0mparsers\u001b[0m\u001b[1;33m.\u001b[0m\u001b[0mTextReader\u001b[0m\u001b[1;33m(\u001b[0m\u001b[0msrc\u001b[0m\u001b[1;33m,\u001b[0m \u001b[1;33m**\u001b[0m\u001b[0mkwds\u001b[0m\u001b[1;33m)\u001b[0m\u001b[1;33m\u001b[0m\u001b[0m\n\u001b[0m\u001b[0;32m   1696\u001b[0m \u001b[1;33m\u001b[0m\u001b[0m\n\u001b[0;32m   1697\u001b[0m         \u001b[1;31m# XXX\u001b[0m\u001b[1;33m\u001b[0m\u001b[1;33m\u001b[0m\u001b[0m\n",
      "\u001b[1;32mpandas\\_libs\\parsers.pyx\u001b[0m in \u001b[0;36mpandas._libs.parsers.TextReader.__cinit__\u001b[1;34m()\u001b[0m\n",
      "\u001b[1;32mpandas\\_libs\\parsers.pyx\u001b[0m in \u001b[0;36mpandas._libs.parsers.TextReader._setup_parser_source\u001b[1;34m()\u001b[0m\n",
      "\u001b[1;31mFileNotFoundError\u001b[0m: File b'../input/mla-results/MLA_Results.csv' does not exist"
     ],
     "output_type": "error"
    }
   ],
   "source": [
    "pd.read_csv('../input/mla-results/MLA_Results.csv')"
   ]
  },
  {
   "cell_type": "markdown",
   "metadata": {
    "trusted": true,
    "_uuid": "cada1c983cd273eb82b3530da5e722a1272039ac",
    "collapsed": true
   },
   "source": [
    "## Hyperparameter turing. \n",
    "Based on above results, I will take 10 best Machine Learning Algorithms and use GridSearch to find the best parameters in each of the method.\n",
    "But first we need to create output table that will be later used to build output models and predictions.\n"
   ]
  },
  {
   "cell_type": "code",
   "execution_count": 107,
   "metadata": {
    "trusted": true,
    "_uuid": "e089cf088c0ba43ce64ec01266c22179476efc59",
    "collapsed": true
   },
   "outputs": [],
   "source": [
    "from sklearn.model_selection import GridSearchCV\n",
    "from sklearn.model_selection import ShuffleSplit\n",
    "\n",
    "MLA_AT_columns = ['pca','best1_score', 'best1_param', 'best2_score','best2_param', 'best3_score', 'best3_param']\n",
    "MLA_AT = pd.DataFrame(columns=MLA_AT_columns)\n"
   ]
  },
  {
   "cell_type": "code",
   "execution_count": 143,
   "metadata": {
    "trusted": true,
    "_uuid": "bd04f5b80efeb1ae36a195a42756557564065e26",
    "collapsed": true
   },
   "outputs": [],
   "source": [
    "def GridSearch_method(model, model_name, params):\n",
    "    \n",
    "    n_pca = 150\n",
    "    X_pca = reduce_byPCA(X, n_pca)\n",
    "        \n",
    "    cv_split = ShuffleSplit(n_splits=10, test_size=.1, train_size=.9, random_state=8)\n",
    "\n",
    "    clf =  GridSearchCV(model, params, cv=cv_split, return_train_score=False).fit(X_pca, labels)\n",
    "   \n",
    "    gs_results = pd.DataFrame(clf.cv_results_).loc[:, ['mean_test_score', 'rank_test_score', 'params']].sort_values(by='rank_test_score')\n",
    "    \n",
    "    MLA_AT.loc[model_name, 'pca'] = n_pca\n",
    "    for rank in [1, 2, 3]:\n",
    "        MLA_AT.loc[model_name, 'best{}_score'.format(rank)] = clf.cv_results_['mean_test_score'][rank -1]\n",
    "        MLA_AT.loc[model_name, 'best{}_param'.format(rank)] = str(clf.cv_results_['params'][rank -1])\n",
    "\n",
    "    print(clf.best_params_)\n",
    "    return gs_results\n"
   ]
  },
  {
   "cell_type": "markdown",
   "metadata": {
    "_uuid": "9dd8d3e57fef52e0a0f018d4d77fe64a43186d21"
   },
   "source": [
    "### Model selection\n\n#### We will tune parameters of following models:\n1. KNeighborsClassifier\n2.\tSVC\n3. QuadraticDiscriminantAnalysis\n4. GradientBoostingClassifier\n5. XGBClassifier\n6. LogisticRegressionCV\n7. SGDClassifier\n8. BaggingClassifier\n9. RandomForestClassifier\n10. Perceptron"
   ]
  },
  {
   "cell_type": "markdown",
   "metadata": {
    "_uuid": "a3b9c2848dd1bdb844ae4fd86db550128ba91fd4"
   },
   "source": [
    "### K Neighbours Classifier"
   ]
  },
  {
   "cell_type": "code",
   "execution_count": null,
   "metadata": {
    "trusted": true,
    "collapsed": true,
    "_uuid": "652e294806e5f7cea35da7e7bf63e5d9a413957f"
   },
   "outputs": [],
   "source": [
    "params = {'n_neighbors' : [5, 10, 15, 20],\n",
    "          'weights' : ['uniform', 'distance']}\n",
    "\n",
    "KNN = GridSearch_method(model=sk.neighbors.KNeighborsClassifier(), \n",
    "                        model_name='sk.neighbors.KNeighborsClassifier', \n",
    "                        params=params)\n",
    "KNN"
   ]
  },
  {
   "cell_type": "markdown",
   "metadata": {
    "_uuid": "70eeade9927167d8543d310dfa0efb07e7c94e93"
   },
   "source": [
    "### Support Vector Machines"
   ]
  },
  {
   "cell_type": "code",
   "execution_count": null,
   "metadata": {},
   "outputs": [],
   "source": [
    "params = {'C' : [0.001, 0.01, 0.1, 1, 10],\n",
    "          'gamma' : [0.001, 0.01, 0.1, 1]\n",
    "         }\n",
    "SVM = GridSearch_method(model=sk.svm.SVC(probability=True, gamma='auto'), \n",
    "                        model_name='sk.neighbors.KNeighborsClassifier', \n",
    "                        params=params)\n",
    "SVM"
   ]
  },
  {
   "cell_type": "markdown",
   "metadata": {
    "_uuid": "6224c77b9f6d5f0d81d6c3e678288a41efbd09f4"
   },
   "source": [
    "### Quadratic Discriminat Analysis"
   ]
  },
  {
   "cell_type": "code",
   "execution_count": null,
   "metadata": {},
   "outputs": [],
   "source": [
    "# here I would not need to do GridSearch because QDA doesn't have any meaningful parameters to tune. \n",
    "# But it would break my method so, I will still do it. \n",
    "\n",
    "params = {'tol' : [0.0, 0.1, 0.01]}\n",
    "QDA = GridSearch_method(model=sk.discriminant_analysis.QuadraticDiscriminantAnalysis(), \n",
    "                        model_name='sk.discriminant_analysis.QuadraticDiscriminantAnalysis', \n",
    "                        params=params)\n",
    "QDA"
   ]
  },
  {
   "cell_type": "markdown",
   "metadata": {
    "_uuid": "90c709f09b1ec244f22fbd4e6bbf4cdec44b4289"
   },
   "source": [
    "### GradientBoostingClassifier"
   ]
  },
  {
   "cell_type": "code",
   "execution_count": null,
   "metadata": {},
   "outputs": [],
   "source": [
    "params = {'max_depth': [10, 25, 50], \n",
    "          'n_estimators': [200, 350, 500],                 \n",
    "          'learning_rate': [0.0001, 0.001, 0.01, 0.1, 0.2, 0.3]}\n",
    "\n",
    "GBC = GridSearch_method(model=sk.ensemble.GradientBoostingClassifier(), \n",
    "                        model_name='sk.ensemble.GradientBoostingClassifier', \n",
    "                        params=params)\n",
    "GBC"
   ]
  },
  {
   "cell_type": "markdown",
   "metadata": {
    "_uuid": "fb8b5bc53f393d449e9f684e2977f5fc925f076b"
   },
   "source": [
    "### XGBClassifier"
   ]
  },
  {
   "cell_type": "code",
   "execution_count": null,
   "metadata": {
    "trusted": true,
    "_uuid": "cbdcd416927f52b64987195da96ac098bc61bd80"
   },
   "outputs": [],
   "source": [
    "params = {'max_depth': [10, 25, 50], \n",
    "          'n_estimators': [200, 350, 500],                 \n",
    "          'learning_rate': [0.0001, 0.001, 0.01, 0.1, 0.2, 0.3]}\n",
    "\n",
    "XGB = GridSearch_method(model=XGBClassifier(), \n",
    "                        model_name='XGBClassifier', \n",
    "                        params=params)\n",
    "XGB"
   ]
  },
  {
   "cell_type": "markdown",
   "metadata": {
    "_uuid": "277e6af49d1ebea5793a905ce61df24077eb8211"
   },
   "source": [
    "### LogisticRegressionCV"
   ]
  },
  {
   "cell_type": "code",
   "execution_count": null,
   "metadata": {},
   "outputs": [],
   "source": [
    "params = {'max_depth': [10, 25, 50], \n",
    "          'n_estimators': [200, 350, 500],                 \n",
    "          'learning_rate': [0.0001, 0.001, 0.01, 0.1, 0.2, 0.3],\n",
    "          'max_iter': [10000]}\n",
    "\n",
    "LCV = GridSearch_method(model=sk.linear_model.LogisticRegressionCV(), \n",
    "                        model_name='sk.linear_model.LogisticRegressionCV', \n",
    "                        params=params)\n",
    "LCV"
   ]
  },
  {
   "cell_type": "markdown",
   "metadata": {
    "_uuid": "452d23e40601f9c60f1d6bc26cbaa20eef40fbda"
   },
   "source": [
    "### SGDClassifier"
   ]
  },
  {
   "cell_type": "code",
   "execution_count": null,
   "metadata": {},
   "outputs": [],
   "source": [
    "params = {'loss': ['hinge', 'log', 'modified_huber', 'squared_hinge'], \n",
    "          'max_iter': [5, 10],\n",
    "          'tol' : [None]}\n",
    "\n",
    "SGD = GridSearch_method(model=sk.linear_model.SGDClassifier(), \n",
    "                        model_name='sk.linear_model.SGDClassifier', \n",
    "                        params=params)\n",
    "LCV"
   ]
  },
  {
   "cell_type": "markdown",
   "metadata": {},
   "source": [
    "### Bagging Classifier"
   ]
  },
  {
   "cell_type": "code",
   "execution_count": null,
   "metadata": {},
   "outputs": [],
   "source": [
    "params = {'n_estimators' : [25, 50, 75, 125],\n",
    "          'base_estimator__max_depth' : [1, 5, 10, 20],\n",
    "          'max_features': [0.6, 0.8, 1.0],\n",
    "          'max_samples' : [0.05, 0.1, 0.2, 0.5]}\n",
    "\n",
    "BC = GridSearch_method(model=sk.ensemble.BaggingClassifier(), \n",
    "                        model_name='sk.ensemble.BaggingClassifier', \n",
    "                        params=params, n_pca=120)\n",
    "BC"
   ]
  },
  {
   "cell_type": "markdown",
   "metadata": {
    "_uuid": "e14614f525685156336123dcdd82f955274d4fde"
   },
   "source": [
    "### RandomForestClassifier"
   ]
  },
  {
   "cell_type": "code",
   "execution_count": null,
   "metadata": {
    "trusted": true,
    "collapsed": true,
    "_uuid": "c7c24f61a8a28c24f34419f58fa9cd9c38f88562"
   },
   "outputs": [],
   "source": [
    "params = {'n_estimators' : [100, 250, 500],\n",
    "          'criterion' : ['gini', 'entropy'],\n",
    "          'max_features' : ['auto', 25, 50]\n",
    "         }\n",
    "RFC = GridSearch_method(model=sk.ensemble.RandomForestClassifier(), \n",
    "                        model_name='sk.ensemble.RandomForestClassifier', \n",
    "                        params=params)\n",
    "RFC"
   ]
  },
  {
   "cell_type": "markdown",
   "metadata": {
    "_uuid": "0ca9f4d2600b80dca3eb73e6691c456d3541baad"
   },
   "source": [
    "### Perceptron"
   ]
  },
  {
   "cell_type": "code",
   "execution_count": null,
   "metadata": {
    "trusted": true,
    "_uuid": "6e3ca6863e986a7c4922b0a500ff2625a7d58b27"
   },
   "outputs": [],
   "source": [
    "params = {'penalty': ['l2', 'l1', 'elasticnet', None]}\n",
    "\n",
    "PCP = GridSearch_method(model=sk.linear_model.Perceptron(), \n",
    "                        model_name='sk.linear_model.Perceptron', \n",
    "                        params=params)\n",
    "PCP"
   ]
  },
  {
   "cell_type": "markdown",
   "metadata": {
    "trusted": true,
    "collapsed": true,
    "_uuid": "fb16f199fa918d57243a1a06ad35f4f2c68150ee"
   },
   "source": [
    "### EXAMPLE FOR DEVELOPING CODE"
   ]
  },
  {
   "cell_type": "code",
   "execution_count": 109,
   "metadata": {
    "trusted": true,
    "_uuid": "bdb7234042af71a318d559f0f0a8763f34ce5d44"
   },
   "outputs": [
    {
     "name": "stdout",
     "output_type": "stream",
     "text": [
      "{'n_estimators': 20}\n"
     ]
    },
    {
     "data": {
      "text/html": [
       "<div>\n<style scoped>\n    .dataframe tbody tr th:only-of-type {\n        vertical-align: middle;\n    }\n\n    .dataframe tbody tr th {\n        vertical-align: top;\n    }\n\n    .dataframe thead th {\n        text-align: right;\n    }\n</style>\n<table border=\"1\" class=\"dataframe\">\n  <thead>\n    <tr style=\"text-align: right;\">\n      <th></th>\n      <th>pca</th>\n      <th>best1_score</th>\n      <th>best1_param</th>\n      <th>best2_score</th>\n      <th>best2_param</th>\n      <th>best3_score</th>\n      <th>best3_param</th>\n    </tr>\n  </thead>\n  <tbody>\n    <tr>\n      <th>sk.ensemble.AdaBoostClassifier</th>\n      <td>20</td>\n      <td>0.516667</td>\n      <td>{'n_estimators': 10}</td>\n      <td>0.576429</td>\n      <td>{'n_estimators': 15}</td>\n      <td>0.6325</td>\n      <td>{'n_estimators': 20}</td>\n    </tr>\n  </tbody>\n</table>\n</div>"
      ],
      "text/plain": [
       "                               pca          ...                    best3_param\nsk.ensemble.AdaBoostClassifier  20          ...           {'n_estimators': 20}\n\n[1 rows x 7 columns]"
      ]
     },
     "execution_count": 109,
     "metadata": {},
     "output_type": "execute_result"
    }
   ],
   "source": [
    "# AdBoosting\n",
    "MLA_AT = pd.DataFrame(columns=MLA_AT_columns)\n",
    "\n",
    "params = {'n_estimators' : [10, 15, 20]}\n",
    "ADA = GridSearch_method(model=sk.ensemble.AdaBoostClassifier(), \n",
    "                        model_name='sk.ensemble.AdaBoostClassifier', \n",
    "                        params=params, n_pca=120)\n",
    "\n",
    "# Bagging Classifier\n",
    "params = {'n_estimators' : [5, 10,15]}\n",
    "BC = GridSearch_method(model=sk.ensemble.BaggingClassifier(), \n",
    "                        model_name='sk.ensemble.BaggingClassifier', \n",
    "                        params=params, n_pca=120)\n",
    "MLA_AT "
   ]
  },
  {
   "cell_type": "code",
   "execution_count": 40,
   "metadata": {},
   "outputs": [
    {
     "data": {
      "text/html": [
       "<div>\n",
       "<style scoped>\n",
       "    .dataframe tbody tr th:only-of-type {\n",
       "        vertical-align: middle;\n",
       "    }\n",
       "\n",
       "    .dataframe tbody tr th {\n",
       "        vertical-align: top;\n",
       "    }\n",
       "\n",
       "    .dataframe thead th {\n",
       "        text-align: right;\n",
       "    }\n",
       "</style>\n",
       "<table border=\"1\" class=\"dataframe\">\n",
       "  <thead>\n",
       "    <tr style=\"text-align: right;\">\n",
       "      <th></th>\n",
       "      <th>model_name</th>\n",
       "      <th>pca</th>\n",
       "      <th>best1_score</th>\n",
       "      <th>best1_param</th>\n",
       "      <th>best2_score</th>\n",
       "      <th>best2_param</th>\n",
       "      <th>best3_score</th>\n",
       "      <th>best3_param</th>\n",
       "    </tr>\n",
       "  </thead>\n",
       "  <tbody>\n",
       "    <tr>\n",
       "      <th>0</th>\n",
       "      <td>sk.linear_model.Perceptron</td>\n",
       "      <td>150</td>\n",
       "      <td>0.860000</td>\n",
       "      <td>{'penalty': None}</td>\n",
       "      <td>0.833595</td>\n",
       "      <td>{'penalty': 'l2'}</td>\n",
       "      <td>0.857429</td>\n",
       "      <td>{'penalty': 'l1'}</td>\n",
       "    </tr>\n",
       "    <tr>\n",
       "      <th>1</th>\n",
       "      <td>sk.discriminant_analysis.QuadraticDiscriminant...</td>\n",
       "      <td>150</td>\n",
       "      <td>0.944071</td>\n",
       "      <td>{'tol': 0.0}</td>\n",
       "      <td>0.944071</td>\n",
       "      <td>{'tol': 0.1}</td>\n",
       "      <td>0.944071</td>\n",
       "      <td>{'tol': 0.01}</td>\n",
       "    </tr>\n",
       "    <tr>\n",
       "      <th>2</th>\n",
       "      <td>sk.linear_model.SGDClassifier</td>\n",
       "      <td>150</td>\n",
       "      <td>0.889000</td>\n",
       "      <td>{'loss': 'hinge', 'max_iter': 5, 'tol': None}</td>\n",
       "      <td>0.894595</td>\n",
       "      <td>{'loss': 'hinge', 'max_iter': 10, 'tol': None}</td>\n",
       "      <td>0.892690</td>\n",
       "      <td>{'loss': 'log', 'max_iter': 5, 'tol': None}</td>\n",
       "    </tr>\n",
       "    <tr>\n",
       "      <th>3</th>\n",
       "      <td>sk.linear_model.LogisticRegression</td>\n",
       "      <td>150</td>\n",
       "      <td>0.873810</td>\n",
       "      <td>{'C': 0.001, 'multi_class': 'ovr', 'penalty': ...</td>\n",
       "      <td>0.873976</td>\n",
       "      <td>{'C': 0.001, 'multi_class': 'ovr', 'penalty': ...</td>\n",
       "      <td>0.883619</td>\n",
       "      <td>{'C': 0.001, 'multi_class': 'multinomial', 'pe...</td>\n",
       "    </tr>\n",
       "  </tbody>\n",
       "</table>\n",
       "</div>"
      ],
      "text/plain": [
       "<div>\n",
       "<style scoped>\n",
       "    .dataframe tbody tr th:only-of-type {\n",
       "        vertical-align: middle;\n",
       "    }\n",
       "\n",
       "    .dataframe tbody tr th {\n",
       "        vertical-align: top;\n",
       "    }\n",
       "\n",
       "    .dataframe thead th {\n",
       "        text-align: right;\n",
       "    }\n",
       "</style>\n",
       "<table border=\"1\" class=\"dataframe\">\n",
       "  <thead>\n",
       "    <tr style=\"text-align: right;\">\n",
       "      <th></th>\n",
       "      <th>model_name</th>\n",
       "      <th>pca</th>\n",
       "      <th>best1_score</th>\n",
       "      <th>best1_param</th>\n",
       "      <th>best2_score</th>\n",
       "      <th>best2_param</th>\n",
       "      <th>best3_score</th>\n",
       "      <th>best3_param</th>\n",
       "    </tr>\n",
       "  </thead>\n",
       "  <tbody>\n",
       "    <tr>\n",
       "      <th>0</th>\n",
       "      <td>sk.linear_model.Perceptron</td>\n",
       "      <td>150</td>\n",
       "      <td>0.860000</td>\n",
       "      <td>{'penalty': None}</td>\n",
       "      <td>0.833595</td>\n",
       "      <td>{'penalty': 'l2'}</td>\n",
       "      <td>0.857429</td>\n",
       "      <td>{'penalty': 'l1'}</td>\n",
       "    </tr>\n",
       "    <tr>\n",
       "      <th>1</th>\n",
       "      <td>sk.discriminant_analysis.QuadraticDiscriminant...</td>\n",
       "      <td>150</td>\n",
       "      <td>0.944071</td>\n",
       "      <td>{'tol': 0.0}</td>\n",
       "      <td>0.944071</td>\n",
       "      <td>{'tol': 0.1}</td>\n",
       "      <td>0.944071</td>\n",
       "      <td>{'tol': 0.01}</td>\n",
       "    </tr>\n",
       "    <tr>\n",
       "      <th>2</th>\n",
       "      <td>sk.linear_model.SGDClassifier</td>\n",
       "      <td>150</td>\n",
       "      <td>0.889000</td>\n",
       "      <td>{'loss': 'hinge', 'max_iter': 5, 'tol': None}</td>\n",
       "      <td>0.894595</td>\n",
       "      <td>{'loss': 'hinge', 'max_iter': 10, 'tol': None}</td>\n",
       "      <td>0.892690</td>\n",
       "      <td>{'loss': 'log', 'max_iter': 5, 'tol': None}</td>\n",
       "    </tr>\n",
       "    <tr>\n",
       "      <th>3</th>\n",
       "      <td>sk.linear_model.LogisticRegression</td>\n",
       "      <td>150</td>\n",
       "      <td>0.873810</td>\n",
       "      <td>{'C': 0.001, 'multi_class': 'ovr', 'penalty': ...</td>\n",
       "      <td>0.873976</td>\n",
       "      <td>{'C': 0.001, 'multi_class': 'ovr', 'penalty': ...</td>\n",
       "      <td>0.883619</td>\n",
       "      <td>{'C': 0.001, 'multi_class': 'multinomial', 'pe...</td>\n",
       "    </tr>\n",
       "  </tbody>\n",
       "</table>\n",
       "</div>"
      ]
     },
     "execution_count": 40,
     "metadata": {},
     "output_type": "execute_result"
    }
   ],
   "source": [
    "import pandas as pd\n",
    "import matplotlib.pyplot as plt\n",
    "DIR = 'C:\\\\Users\\\\Lenovo\\\\PycharmProjects\\\\Kaggle\\\\Project4_Digit_Recognition\\\\Separation_of_MLA_GridSearch\\\\'\n",
    "#pd.read_csv(DIR + 'LOG.csv')\n",
    "\n",
    "MLA_AT = pd.DataFrame()\n",
    "\n",
    "for file in ['PCP', 'QDA', 'SGD', 'LOG']:\n",
    "    MLA_AT = pd.concat([MLA_AT, pd.read_csv(DIR + 'MLA_AT_{}.csv'.format(file))], axis=0, ignore_index=True)\n",
    "MLA_AT.to_csv(DIR + 'MLA_AT.csv', index=False)\n",
    "MLA_AT"
   ]
  },
  {
   "cell_type": "markdown",
   "metadata": {
    "_uuid": "e4ac4396911fd225f477a114c8031f8906501e2a"
   },
   "source": [
    "# Build Predictions"
   ]
  },
  {
   "cell_type": "code",
   "execution_count": 141,
   "metadata": {
    "trusted": true,
    "_uuid": "8b296fe6b6941204d45b2a47fc27517d1a88a147"
   },
   "outputs": [
    {
     "name": "stdout",
     "output_type": "stream",
     "text": [
      "sk.ensemble.AdaBoostClassifier ranked=75 with 1 PCA and params:n_estimators= 10 has been created and exported.\nsk.ensemble.AdaBoostClassifier ranked=75 with 2 PCA and params:n_estimators= 15 has been created and exported.\nsk.ensemble.AdaBoostClassifier ranked=75 with 3 PCA and params:n_estimators= 20 has been created and exported.\nsk.ensemble.BaggingClassifier ranked=75 with 1 PCA and params:n_estimators= 5 has been created and exported.\nsk.ensemble.BaggingClassifier ranked=75 with 2 PCA and params:n_estimators= 10 has been created and exported.\nsk.ensemble.BaggingClassifier ranked=75 with 3 PCA and params:n_estimators= 15 has been created and exported.\nsk.ensemble.AdaBoostClassifier ranked=150 with 1 PCA and params:n_estimators= 10 has been created and exported.\nsk.ensemble.AdaBoostClassifier ranked=150 with 2 PCA and params:n_estimators= 15 has been created and exported.\nsk.ensemble.AdaBoostClassifier ranked=150 with 3 PCA and params:n_estimators= 20 has been created and exported.\nsk.ensemble.BaggingClassifier ranked=150 with 1 PCA and params:n_estimators= 5 has been created and exported.\nsk.ensemble.BaggingClassifier ranked=150 with 2 PCA and params:n_estimators= 10 has been created and exported.\nsk.ensemble.BaggingClassifier ranked=150 with 3 PCA and params:n_estimators= 15 has been created and exported.\n"
     ]
    }
   ],
   "source": [
    "for n in [75, 150]:\n",
    "    X_train = reduce_byPCA(X, n)\n",
    "    \n",
    "    X_test = pd.read_csv(DIR + 'test.csv')\n",
    "    X_test = X_test/255.0\n",
    "    X_test = reduce_byPCA(X_test, n)\n",
    "    ImageId = np.arange(1, len(X_test.index) + 1)\n",
    "    \n",
    "    \n",
    "    for model_name in MLA_AT.index:\n",
    "        for rank in [1, 2, 3]:\n",
    "            params = MLA_AT.loc[model_name, 'best{}_param'.format(rank)].replace(':', '=').replace('{', '').replace('}', ''). replace(\"'\", \"\")\n",
    "            model = eval(model_name + '({})'.format(params))\n",
    "            # create prediction\n",
    "            Label = model.fit(X_train, labels).predict(X_test)\n",
    "            prediction = pd.concat([pd.Series(ImageId), pd.Series(Label)], axis=1, ignore_index=True)\n",
    "            prediction.columns = ['ImageId', 'Label']\n",
    "            prediction_name = '{}_{}_{}.csv'.format(model_name,n ,rank)\n",
    "            prediction.to_csv(prediction_name, index=False)\n",
    "            print('{} ranked={} with {} PCA and params:{} has been created and exported.'.format(model_name, rank, n, params))\n",
    "         \n",
    "         \n"
   ]
  },
  {
   "cell_type": "code",
   "execution_count": 25,
   "metadata": {},
   "outputs": [
    {
     "ename": "AttributeError",
     "evalue": "'NoneType' object has no attribute 'group'",
     "traceback": [
      "\u001b[1;31m---------------------------------------------------------------------------\u001b[0m",
      "\u001b[1;31mAttributeError\u001b[0m                            Traceback (most recent call last)",
      "\u001b[1;32m<ipython-input-25-b238ff6f6f14>\u001b[0m in \u001b[0;36m<module>\u001b[1;34m()\u001b[0m\n\u001b[0;32m      7\u001b[0m \u001b[0mmatch\u001b[0m \u001b[1;33m=\u001b[0m \u001b[0mre\u001b[0m\u001b[1;33m.\u001b[0m\u001b[0mmatch\u001b[0m\u001b[1;33m(\u001b[0m\u001b[1;34mr\"^.*\\'(.*)\\'.*$ \"\u001b[0m\u001b[1;33m,\u001b[0m\u001b[0mdicto\u001b[0m\u001b[1;33m)\u001b[0m\u001b[1;33m\u001b[0m\u001b[0m\n\u001b[0;32m      8\u001b[0m \u001b[1;33m\u001b[0m\u001b[0m\n\u001b[1;32m----> 9\u001b[1;33m \u001b[0mprint\u001b[0m\u001b[1;33m(\u001b[0m\u001b[0mmatch\u001b[0m\u001b[1;33m.\u001b[0m\u001b[0mgroup\u001b[0m\u001b[1;33m(\u001b[0m\u001b[1;36m1\u001b[0m\u001b[1;33m)\u001b[0m\u001b[1;33m)\u001b[0m\u001b[1;33m\u001b[0m\u001b[0m\n\u001b[0m",
      "\u001b[1;31mAttributeError\u001b[0m: 'NoneType' object has no attribute 'group'"
     ],
     "output_type": "error"
    }
   ],
   "source": [
    "import re\n",
    "\n",
    "dicto = str({'loss': 'log', 'max_iter': 5, 'tol': 'l2'})\n",
    "\n",
    "\n",
    "\n",
    "match = re.match(r\"^.*\\'(.*)\\'.*$ \",dicto)\n",
    "\n",
    "print(match.group(1))"
   ]
  },
  {
   "cell_type": "code",
   "execution_count": 30,
   "metadata": {},
   "outputs": [
    {
     "data": {
      "text/plain": [
       "\" loss= 'log', max_iter = 5, tol = 'l2  \""
      ]
     },
     "execution_count": 30,
     "metadata": {},
     "output_type": "execute_result"
    }
   ],
   "source": [
    "\" loss= 'log', max_iter = 5, tol = 'l2 \""
   ]
  },
  {
   "cell_type": "code",
   "execution_count": 37,
   "metadata": {
    "collapsed": true
   },
   "outputs": [
    {
     "name": "stdout",
     "output_type": "stream",
     "text": [
      "loss=log\nmax_iter=5\ntol=l2\n"
     ]
    }
   ],
   "source": [
    "for keys in eval(str({'loss': 'log', 'max_iter': 5, 'tol': 'l2'})):\n",
    "    print('{}={}'.format(keys, dicto[keys]))"
   ]
  },
  {
   "cell_type": "code",
   "execution_count": 10,
   "metadata": {},
   "outputs": [
    {
     "data": {
      "text/plain": [
       "[('A', [2, 1, 3]), ('B', [100, 200, 300])]"
      ]
     },
     "execution_count": 10,
     "metadata": {},
     "output_type": "execute_result"
    }
   ],
   "source": [
    "import operator\n",
    "dicto = {'A': [2, 1, 3], 'B': [100, 200, 300]}\n",
    "\n",
    "sorted(dicto.items(), key=operator.itemgetter(0))"
   ]
  },
  {
   "cell_type": "code",
   "execution_count": 1,
   "metadata": {},
   "outputs": [
    {
     "data": {
      "text/html": [
       "<div>\n",
       "<style scoped>\n",
       "    .dataframe tbody tr th:only-of-type {\n",
       "        vertical-align: middle;\n",
       "    }\n",
       "\n",
       "    .dataframe tbody tr th {\n",
       "        vertical-align: top;\n",
       "    }\n",
       "\n",
       "    .dataframe thead th {\n",
       "        text-align: right;\n",
       "    }\n",
       "</style>\n",
       "<table border=\"1\" class=\"dataframe\">\n",
       "  <thead>\n",
       "    <tr style=\"text-align: right;\">\n",
       "      <th></th>\n",
       "      <th>A</th>\n",
       "    </tr>\n",
       "  </thead>\n",
       "  <tbody>\n",
       "    <tr>\n",
       "      <th>0</th>\n",
       "      <td>0.000000</td>\n",
       "    </tr>\n",
       "    <tr>\n",
       "      <th>1</th>\n",
       "      <td>0.039526</td>\n",
       "    </tr>\n",
       "    <tr>\n",
       "      <th>2</th>\n",
       "      <td>0.197628</td>\n",
       "    </tr>\n",
       "    <tr>\n",
       "      <th>3</th>\n",
       "      <td>0.988142</td>\n",
       "    </tr>\n",
       "    <tr>\n",
       "      <th>4</th>\n",
       "      <td>0.169960</td>\n",
       "    </tr>\n",
       "    <tr>\n",
       "      <th>5</th>\n",
       "      <td>0.083004</td>\n",
       "    </tr>\n",
       "    <tr>\n",
       "      <th>6</th>\n",
       "      <td>0.177866</td>\n",
       "    </tr>\n",
       "    <tr>\n",
       "      <th>7</th>\n",
       "      <td>1.000000</td>\n",
       "    </tr>\n",
       "  </tbody>\n",
       "</table>\n",
       "</div>"
      ],
      "text/plain": [
       "<div>\n",
       "<style scoped>\n",
       "    .dataframe tbody tr th:only-of-type {\n",
       "        vertical-align: middle;\n",
       "    }\n",
       "\n",
       "    .dataframe tbody tr th {\n",
       "        vertical-align: top;\n",
       "    }\n",
       "\n",
       "    .dataframe thead th {\n",
       "        text-align: right;\n",
       "    }\n",
       "</style>\n",
       "<table border=\"1\" class=\"dataframe\">\n",
       "  <thead>\n",
       "    <tr style=\"text-align: right;\">\n",
       "      <th></th>\n",
       "      <th>A</th>\n",
       "    </tr>\n",
       "  </thead>\n",
       "  <tbody>\n",
       "    <tr>\n",
       "      <th>0</th>\n",
       "      <td>0.000000</td>\n",
       "    </tr>\n",
       "    <tr>\n",
       "      <th>1</th>\n",
       "      <td>0.039526</td>\n",
       "    </tr>\n",
       "    <tr>\n",
       "      <th>2</th>\n",
       "      <td>0.197628</td>\n",
       "    </tr>\n",
       "    <tr>\n",
       "      <th>3</th>\n",
       "      <td>0.988142</td>\n",
       "    </tr>\n",
       "    <tr>\n",
       "      <th>4</th>\n",
       "      <td>0.169960</td>\n",
       "    </tr>\n",
       "    <tr>\n",
       "      <th>5</th>\n",
       "      <td>0.083004</td>\n",
       "    </tr>\n",
       "    <tr>\n",
       "      <th>6</th>\n",
       "      <td>0.177866</td>\n",
       "    </tr>\n",
       "    <tr>\n",
       "      <th>7</th>\n",
       "      <td>1.000000</td>\n",
       "    </tr>\n",
       "  </tbody>\n",
       "</table>\n",
       "</div>"
      ]
     },
     "execution_count": 1,
     "metadata": {},
     "output_type": "execute_result"
    }
   ],
   "source": [
    "import pandas as pd\n",
    "\n",
    "df = pd.DataFrame({'A': [0, 10, 50, 250, 43, 21, 45, 253]})\n",
    "\n",
    "df = df / 253.0\n",
    "\n",
    "df"
   ]
  },
  {
   "cell_type": "code",
   "execution_count": null,
   "metadata": {},
   "outputs": [],
   "source": []
  },
  {
   "cell_type": "raw",
   "metadata": {},
   "source": [
    ""
   ]
  }
 ],
 "metadata": {
  "kernelspec": {
   "display_name": "Python 3",
   "language": "python",
   "name": "python3"
  },
  "language_info": {
   "name": "python",
   "version": "3.6.5",
   "mimetype": "text/x-python",
   "codemirror_mode": {
    "name": "ipython",
    "version": 3
   },
   "pygments_lexer": "ipython3",
   "nbconvert_exporter": "python",
   "file_extension": ".py"
  }
 },
 "nbformat": 4,
 "nbformat_minor": 1
}
